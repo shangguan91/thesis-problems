{
  "nbformat": 4,
  "nbformat_minor": 0,
  "metadata": {
    "colab": {
      "name": "Lightconv-reexp.ipynb",
      "provenance": [],
      "collapsed_sections": []
    },
    "kernelspec": {
      "name": "python3",
      "display_name": "Python 3"
    }
  },
  "cells": [
    {
      "cell_type": "code",
      "metadata": {
        "id": "OZ4crdHQdHUI",
        "colab_type": "code",
        "colab": {
          "base_uri": "https://localhost:8080/",
          "height": 134
        },
        "outputId": "4a0a9bcf-c9ba-4e7a-a957-b51de3b12937"
      },
      "source": [
        "!pip install -q xlrd  \n",
        "!git clone https://github.com/valeoai/LightConvPoint.git"
      ],
      "execution_count": 1,
      "outputs": [
        {
          "output_type": "stream",
          "text": [
            "Cloning into 'LightConvPoint'...\n",
            "remote: Enumerating objects: 155, done.\u001b[K\n",
            "remote: Counting objects: 100% (155/155), done.\u001b[K\n",
            "remote: Compressing objects: 100% (81/81), done.\u001b[K\n",
            "remote: Total 155 (delta 80), reused 146 (delta 72), pack-reused 0\u001b[K\n",
            "Receiving objects: 100% (155/155), 530.12 KiB | 756.00 KiB/s, done.\n",
            "Resolving deltas: 100% (80/80), done.\n"
          ],
          "name": "stdout"
        }
      ]
    },
    {
      "cell_type": "code",
      "metadata": {
        "id": "fpm5BM-JdvkM",
        "colab_type": "code",
        "colab": {
          "base_uri": "https://localhost:8080/",
          "height": 34
        },
        "outputId": "48670eae-e91f-4dd0-f822-27e8c9e748bd"
      },
      "source": [
        "!pwd"
      ],
      "execution_count": 2,
      "outputs": [
        {
          "output_type": "stream",
          "text": [
            "/content\n"
          ],
          "name": "stdout"
        }
      ]
    },
    {
      "cell_type": "code",
      "metadata": {
        "id": "rE6j7CfOevqM",
        "colab_type": "code",
        "colab": {}
      },
      "source": [
        "import os\n",
        "os.chdir('/content/')"
      ],
      "execution_count": null,
      "outputs": []
    },
    {
      "cell_type": "code",
      "metadata": {
        "id": "ag3HuJi1dnsV",
        "colab_type": "code",
        "colab": {
          "base_uri": "https://localhost:8080/",
          "height": 34
        },
        "outputId": "3d6140e4-0312-4a6e-8973-f0a67a4c4da6"
      },
      "source": [
        "%cd /content/LightConvPoint"
      ],
      "execution_count": 3,
      "outputs": [
        {
          "output_type": "stream",
          "text": [
            "/content/LightConvPoint\n"
          ],
          "name": "stdout"
        }
      ]
    },
    {
      "cell_type": "code",
      "metadata": {
        "id": "xVCv4gcwd0aU",
        "colab_type": "code",
        "colab": {}
      },
      "source": [
        "pip install -ve /content/LightConvPoint"
      ],
      "execution_count": null,
      "outputs": []
    },
    {
      "cell_type": "code",
      "metadata": {
        "id": "SlLfBFoYieri",
        "colab_type": "code",
        "colab": {
          "base_uri": "https://localhost:8080/",
          "height": 34
        },
        "outputId": "693d1045-f4ad-4588-c493-ebfc772f8a1a"
      },
      "source": [
        "cd /content/LightConvPoint/examples/modelnet40"
      ],
      "execution_count": 5,
      "outputs": [
        {
          "output_type": "stream",
          "text": [
            "/content/LightConvPoint/examples/modelnet40\n"
          ],
          "name": "stdout"
        }
      ]
    },
    {
      "cell_type": "code",
      "metadata": {
        "id": "XsVo7dW0nTcD",
        "colab_type": "code",
        "colab": {}
      },
      "source": [
        "!pip install sacred"
      ],
      "execution_count": null,
      "outputs": []
    },
    {
      "cell_type": "code",
      "metadata": {
        "id": "RMFgbk4Kk2Ip",
        "colab_type": "code",
        "colab": {}
      },
      "source": [
        "!python modelnet40_dataset.py\n"
      ],
      "execution_count": 6,
      "outputs": []
    },
    {
      "cell_type": "code",
      "metadata": {
        "id": "xD6vp1o9o754",
        "colab_type": "code",
        "colab": {}
      },
      "source": [
        "!wget https://shapenet.cs.stanford.edu/media/modelnet40_ply_hdf5_2048.zip"
      ],
      "execution_count": null,
      "outputs": []
    },
    {
      "cell_type": "code",
      "metadata": {
        "id": "1wkHSgUtpTXg",
        "colab_type": "code",
        "colab": {}
      },
      "source": [
        "!unzip modelnet40_ply_hdf5_2048.zip"
      ],
      "execution_count": null,
      "outputs": []
    },
    {
      "cell_type": "code",
      "metadata": {
        "id": "oIZWGbpWrwsf",
        "colab_type": "code",
        "colab": {
          "base_uri": "https://localhost:8080/",
          "height": 50
        },
        "outputId": "34d94d00-9a35-4b71-900f-5b633e57c409"
      },
      "source": [
        "!ls"
      ],
      "execution_count": 24,
      "outputs": [
        {
          "output_type": "stream",
          "text": [
            "modelnet40_dataset.py\t  modelnet40_ply_hdf5_2048.zip\t__pycache__  train.py\n",
            "modelnet40_ply_hdf5_2048  modelnet40.yaml\t\ttest.py\n"
          ],
          "name": "stdout"
        }
      ]
    },
    {
      "cell_type": "code",
      "metadata": {
        "id": "82RCXoZzv3St",
        "colab_type": "code",
        "colab": {
          "base_uri": "https://localhost:8080/",
          "height": 34
        },
        "outputId": "ddd14e45-76d7-45c3-ca49-d0a359a4ec61"
      },
      "source": [
        "!pwd"
      ],
      "execution_count": 93,
      "outputs": [
        {
          "output_type": "stream",
          "text": [
            "/content/LightConvPoint/examples/modelnet40\n"
          ],
          "name": "stdout"
        }
      ]
    },
    {
      "cell_type": "code",
      "metadata": {
        "id": "hZMHdvdsusf5",
        "colab_type": "code",
        "colab": {}
      },
      "source": [
        "/content/LightConvPoint/examples/modelnet40/modelnet40_ply_hdf5_2048/ply_data_train_0_id2file.json"
      ],
      "execution_count": null,
      "outputs": []
    },
    {
      "cell_type": "code",
      "metadata": {
        "id": "-0kZa8Ga9SEU",
        "colab_type": "code",
        "colab": {
          "base_uri": "https://localhost:8080/",
          "height": 101
        },
        "outputId": "f837afaa-803d-48ac-8812-73a14a8571b0"
      },
      "source": [
        "!python train.py with modelnet40.json datasetdir=\"content/LightConvPoint/examples/modelnet40/modelnet40_ply_hdf5_2048\""
      ],
      "execution_count": 116,
      "outputs": [
        {
          "output_type": "stream",
          "text": [
            "Exception originated from within Sacred.\n",
            "Traceback (most recent calls):\n",
            "  File \"/usr/local/lib/python3.6/dist-packages/sacred/initialize.py\", line 390, in get_scaffolding_and_config_name\n",
            "    'Ingredient for named config \"{}\" not found'.format(named_config)\n",
            "KeyError: 'Ingredient for named config \"modelnet40.json\" not found'\n"
          ],
          "name": "stdout"
        }
      ]
    },
    {
      "cell_type": "code",
      "metadata": {
        "id": "X9dB-xPHCgxp",
        "colab_type": "code",
        "colab": {
          "base_uri": "https://localhost:8080/",
          "height": 101
        },
        "outputId": "98f78270-5369-4664-aecd-7b35d0deb00b"
      },
      "source": [
        "!python train.py with modelnet40.json datasetdir=\"/modelnet40_ply_hdf5_2048\""
      ],
      "execution_count": 126,
      "outputs": [
        {
          "output_type": "stream",
          "text": [
            "Exception originated from within Sacred.\n",
            "Traceback (most recent calls):\n",
            "  File \"/usr/local/lib/python3.6/dist-packages/sacred/initialize.py\", line 390, in get_scaffolding_and_config_name\n",
            "    'Ingredient for named config \"{}\" not found'.format(named_config)\n",
            "KeyError: 'Ingredient for named config \"modelnet40.json\" not found'\n"
          ],
          "name": "stdout"
        }
      ]
    },
    {
      "cell_type": "code",
      "metadata": {
        "id": "O3YEc5s649sU",
        "colab_type": "code",
        "colab": {
          "base_uri": "https://localhost:8080/",
          "height": 34
        },
        "outputId": "2a09bc2b-8f46-44fc-a7e1-fe9c50a4b695"
      },
      "source": [
        "!pwd\n",
        "#directory structure /content/LightConvPoint/examples/modelnet40/modelnet40_ply_hdf5_2048/ply_data_train_4_id2file.json "
      ],
      "execution_count": 86,
      "outputs": [
        {
          "output_type": "stream",
          "text": [
            "/content/LightConvPoint/examples/modelnet40\n"
          ],
          "name": "stdout"
        }
      ]
    },
    {
      "cell_type": "code",
      "metadata": {
        "id": "t_LeIzHk1NxE",
        "colab_type": "code",
        "colab": {
          "base_uri": "https://localhost:8080/",
          "height": 50
        },
        "outputId": "d5e327f4-b73a-4872-a062-fbe6620c42ee"
      },
      "source": [
        "!ls "
      ],
      "execution_count": 76,
      "outputs": [
        {
          "output_type": "stream",
          "text": [
            "modelnet40_dataset.py\t  modelnet40_ply_hdf5_2048.zip\t__pycache__  train.py\n",
            "modelnet40_ply_hdf5_2048  modelnet40.yaml\t\ttest.py\n"
          ],
          "name": "stdout"
        }
      ]
    }
  ]
}