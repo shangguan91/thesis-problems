{
  "nbformat": 4,
  "nbformat_minor": 0,
  "metadata": {
    "colab": {
      "name": "Modelnet40 isssue.ipynb",
      "provenance": [],
      "collapsed_sections": []
    },
    "kernelspec": {
      "name": "python3",
      "display_name": "Python 3"
    },
    "accelerator": "GPU"
  },
  "cells": [
    {
      "cell_type": "code",
      "metadata": {
        "id": "JVoaEukzGNsA",
        "colab_type": "code",
        "colab": {
          "base_uri": "https://localhost:8080/",
          "height": 101
        },
        "outputId": "8b1daaf0-8634-428e-9c5e-65df08eb5e66"
      },
      "source": [
        "!pip install -q xlrd  \n",
        "!git clone https://github.com/aboulch/ConvPoint.git"
      ],
      "execution_count": null,
      "outputs": [
        {
          "output_type": "stream",
          "text": [
            "Cloning into 'ConvPoint'...\n",
            "remote: Enumerating objects: 593, done.\u001b[K\n",
            "remote: Total 593 (delta 0), reused 0 (delta 0), pack-reused 593\u001b[K\n",
            "Receiving objects: 100% (593/593), 2.66 MiB | 4.40 MiB/s, done.\n",
            "Resolving deltas: 100% (166/166), done.\n"
          ],
          "name": "stdout"
        }
      ]
    },
    {
      "cell_type": "code",
      "metadata": {
        "id": "af1Nbvq4Gphd",
        "colab_type": "code",
        "colab": {
          "base_uri": "https://localhost:8080/",
          "height": 34
        },
        "outputId": "7917622e-2ef3-42b6-86d0-f14470e551ac"
      },
      "source": [
        "%cd /content/ConvPoint"
      ],
      "execution_count": null,
      "outputs": [
        {
          "output_type": "stream",
          "text": [
            "/content/ConvPoint\n"
          ],
          "name": "stdout"
        }
      ]
    },
    {
      "cell_type": "code",
      "metadata": {
        "id": "2sLKSs1JG_sz",
        "colab_type": "code",
        "colab": {
          "base_uri": "https://localhost:8080/",
          "height": 202
        },
        "outputId": "2a151ab9-0992-4731-e4f7-8c6831f7bd8d"
      },
      "source": [
        "!wget https://shapenet.cs.stanford.edu/media/modelnet40_ply_hdf5_2048.zip"
      ],
      "execution_count": null,
      "outputs": [
        {
          "output_type": "stream",
          "text": [
            "--2020-07-02 10:39:24--  https://shapenet.cs.stanford.edu/media/modelnet40_ply_hdf5_2048.zip\n",
            "Resolving shapenet.cs.stanford.edu (shapenet.cs.stanford.edu)... 171.67.77.19\n",
            "Connecting to shapenet.cs.stanford.edu (shapenet.cs.stanford.edu)|171.67.77.19|:443... connected.\n",
            "HTTP request sent, awaiting response... 200 OK\n",
            "Length: 435212151 (415M) [application/zip]\n",
            "Saving to: ‘modelnet40_ply_hdf5_2048.zip’\n",
            "\n",
            "modelnet40_ply_hdf5 100%[===================>] 415.05M  18.8MB/s    in 26s     \n",
            "\n",
            "2020-07-02 10:39:50 (16.0 MB/s) - ‘modelnet40_ply_hdf5_2048.zip’ saved [435212151/435212151]\n",
            "\n"
          ],
          "name": "stdout"
        }
      ]
    },
    {
      "cell_type": "code",
      "metadata": {
        "id": "6Ke0OCjIHB-V",
        "colab_type": "code",
        "colab": {
          "base_uri": "https://localhost:8080/",
          "height": 336
        },
        "outputId": "b06a991d-d565-40da-d525-5771e3dffc55"
      },
      "source": [
        "!unzip modelnet40_ply_hdf5_2048.zip"
      ],
      "execution_count": null,
      "outputs": [
        {
          "output_type": "stream",
          "text": [
            "Archive:  modelnet40_ply_hdf5_2048.zip\n",
            "   creating: modelnet40_ply_hdf5_2048/\n",
            "  inflating: modelnet40_ply_hdf5_2048/ply_data_train_2_id2file.json  \n",
            "  inflating: modelnet40_ply_hdf5_2048/ply_data_train2.h5  \n",
            "  inflating: modelnet40_ply_hdf5_2048/ply_data_train4.h5  \n",
            "  inflating: modelnet40_ply_hdf5_2048/ply_data_train1.h5  \n",
            "  inflating: modelnet40_ply_hdf5_2048/train_files.txt  \n",
            "  inflating: modelnet40_ply_hdf5_2048/ply_data_train_4_id2file.json  \n",
            "  inflating: modelnet40_ply_hdf5_2048/ply_data_test1.h5  \n",
            "  inflating: modelnet40_ply_hdf5_2048/ply_data_test0.h5  \n",
            "  inflating: modelnet40_ply_hdf5_2048/ply_data_test_1_id2file.json  \n",
            "  inflating: modelnet40_ply_hdf5_2048/ply_data_train_1_id2file.json  \n",
            "  inflating: modelnet40_ply_hdf5_2048/ply_data_train_0_id2file.json  \n",
            "  inflating: modelnet40_ply_hdf5_2048/test_files.txt  \n",
            "  inflating: modelnet40_ply_hdf5_2048/ply_data_train0.h5  \n",
            "  inflating: modelnet40_ply_hdf5_2048/ply_data_test_0_id2file.json  \n",
            "  inflating: modelnet40_ply_hdf5_2048/shape_names.txt  \n",
            "  inflating: modelnet40_ply_hdf5_2048/ply_data_train3.h5  \n",
            "  inflating: modelnet40_ply_hdf5_2048/ply_data_train_3_id2file.json  \n"
          ],
          "name": "stdout"
        }
      ]
    },
    {
      "cell_type": "code",
      "metadata": {
        "id": "g8JU_nHZHvit",
        "colab_type": "code",
        "colab": {
          "base_uri": "https://localhost:8080/",
          "height": 185
        },
        "outputId": "6de224f5-ad85-4796-d5da-30cc7d9c4a46"
      },
      "source": [
        "!pip install H5py\n",
        "!pip install PlyFile\n",
        "!pip install TQDM\n",
        "!pip install Scikit-learn\n"
      ],
      "execution_count": null,
      "outputs": [
        {
          "output_type": "stream",
          "text": [
            "Requirement already satisfied: H5py in /usr/local/lib/python3.6/dist-packages (2.10.0)\n",
            "Requirement already satisfied: six in /usr/local/lib/python3.6/dist-packages (from H5py) (1.12.0)\n",
            "Requirement already satisfied: numpy>=1.7 in /usr/local/lib/python3.6/dist-packages (from H5py) (1.18.5)\n",
            "Requirement already satisfied: PlyFile in /usr/local/lib/python3.6/dist-packages (0.7.2)\n",
            "Requirement already satisfied: numpy>=1.8 in /usr/local/lib/python3.6/dist-packages (from PlyFile) (1.18.5)\n",
            "Requirement already satisfied: TQDM in /usr/local/lib/python3.6/dist-packages (4.41.1)\n",
            "Requirement already satisfied: Scikit-learn in /usr/local/lib/python3.6/dist-packages (0.22.2.post1)\n",
            "Requirement already satisfied: numpy>=1.11.0 in /usr/local/lib/python3.6/dist-packages (from Scikit-learn) (1.18.5)\n",
            "Requirement already satisfied: joblib>=0.11 in /usr/local/lib/python3.6/dist-packages (from Scikit-learn) (0.15.1)\n",
            "Requirement already satisfied: scipy>=0.17.0 in /usr/local/lib/python3.6/dist-packages (from Scikit-learn) (1.4.1)\n"
          ],
          "name": "stdout"
        }
      ]
    },
    {
      "cell_type": "code",
      "metadata": {
        "id": "v_Z9TY2WIp6H",
        "colab_type": "code",
        "colab": {
          "base_uri": "https://localhost:8080/",
          "height": 104
        },
        "outputId": "8da7e9af-650e-4825-8a99-934e5d955932"
      },
      "source": [
        "!pip install utils"
      ],
      "execution_count": null,
      "outputs": [
        {
          "output_type": "stream",
          "text": [
            "Collecting utils\n",
            "  Downloading https://files.pythonhosted.org/packages/55/e6/c2d2b2703e7debc8b501caae0e6f7ead148fd0faa3c8131292a599930029/utils-1.0.1-py2.py3-none-any.whl\n",
            "Installing collected packages: utils\n",
            "Successfully installed utils-1.0.1\n"
          ],
          "name": "stdout"
        }
      ]
    },
    {
      "cell_type": "code",
      "metadata": {
        "id": "VAMwHr1PIvhj",
        "colab_type": "code",
        "colab": {
          "base_uri": "https://localhost:8080/",
          "height": 658
        },
        "outputId": "6f83d91b-b5b6-4a60-e09e-c261d8d02b22"
      },
      "source": [
        "!pip install sacred"
      ],
      "execution_count": null,
      "outputs": [
        {
          "output_type": "stream",
          "text": [
            "Collecting sacred\n",
            "\u001b[?25l  Downloading https://files.pythonhosted.org/packages/f9/7f/c5679977f1eceac432c59cc92bd1ddb7272c282c3db8eb846d0e1c03b6a0/sacred-0.8.1.tar.gz (90kB)\n",
            "\r\u001b[K     |███▋                            | 10kB 21.0MB/s eta 0:00:01\r\u001b[K     |███████▎                        | 20kB 4.6MB/s eta 0:00:01\r\u001b[K     |██████████▉                     | 30kB 6.6MB/s eta 0:00:01\r\u001b[K     |██████████████▌                 | 40kB 6.3MB/s eta 0:00:01\r\u001b[K     |██████████████████              | 51kB 5.1MB/s eta 0:00:01\r\u001b[K     |█████████████████████▊          | 61kB 5.7MB/s eta 0:00:01\r\u001b[K     |█████████████████████████▎      | 71kB 6.3MB/s eta 0:00:01\r\u001b[K     |█████████████████████████████   | 81kB 6.9MB/s eta 0:00:01\r\u001b[K     |████████████████████████████████| 92kB 4.5MB/s \n",
            "\u001b[?25hRequirement already satisfied: docopt<1.0,>=0.3 in /usr/local/lib/python3.6/dist-packages (from sacred) (0.6.2)\n",
            "Collecting jsonpickle<2.0,>=1.2\n",
            "  Downloading https://files.pythonhosted.org/packages/af/ca/4fee219cc4113a5635e348ad951cf8a2e47fed2e3342312493f5b73d0007/jsonpickle-1.4.1-py2.py3-none-any.whl\n",
            "Collecting munch<3.0,>=2.0.2\n",
            "  Downloading https://files.pythonhosted.org/packages/cc/ab/85d8da5c9a45e072301beb37ad7f833cd344e04c817d97e0cc75681d248f/munch-2.5.0-py2.py3-none-any.whl\n",
            "Requirement already satisfied: wrapt<2.0,>=1.0 in /usr/local/lib/python3.6/dist-packages (from sacred) (1.12.1)\n",
            "Collecting py-cpuinfo>=4.0\n",
            "\u001b[?25l  Downloading https://files.pythonhosted.org/packages/07/92/82c67b9cc9a52adf031494e83fd0fd6261992a583d18cdbd5b6153eed7a1/py-cpuinfo-6.0.0.tar.gz (145kB)\n",
            "\u001b[K     |████████████████████████████████| 153kB 7.8MB/s \n",
            "\u001b[?25hCollecting colorama>=0.4\n",
            "  Downloading https://files.pythonhosted.org/packages/c9/dc/45cdef1b4d119eb96316b3117e6d5708a08029992b2fee2c143c7a0a5cc5/colorama-0.4.3-py2.py3-none-any.whl\n",
            "Requirement already satisfied: packaging>=18.0 in /usr/local/lib/python3.6/dist-packages (from sacred) (20.4)\n",
            "Collecting GitPython\n",
            "\u001b[?25l  Downloading https://files.pythonhosted.org/packages/8c/f9/c315aa88e51fabdc08e91b333cfefb255aff04a2ee96d632c32cb19180c9/GitPython-3.1.3-py3-none-any.whl (451kB)\n",
            "\u001b[K     |████████████████████████████████| 460kB 13.0MB/s \n",
            "\u001b[?25hRequirement already satisfied: importlib-metadata in /usr/local/lib/python3.6/dist-packages (from jsonpickle<2.0,>=1.2->sacred) (1.6.1)\n",
            "Requirement already satisfied: six in /usr/local/lib/python3.6/dist-packages (from munch<3.0,>=2.0.2->sacred) (1.12.0)\n",
            "Requirement already satisfied: pyparsing>=2.0.2 in /usr/local/lib/python3.6/dist-packages (from packaging>=18.0->sacred) (2.4.7)\n",
            "Collecting gitdb<5,>=4.0.1\n",
            "\u001b[?25l  Downloading https://files.pythonhosted.org/packages/48/11/d1800bca0a3bae820b84b7d813ad1eff15a48a64caea9c823fc8c1b119e8/gitdb-4.0.5-py3-none-any.whl (63kB)\n",
            "\u001b[K     |████████████████████████████████| 71kB 8.0MB/s \n",
            "\u001b[?25hRequirement already satisfied: zipp>=0.5 in /usr/local/lib/python3.6/dist-packages (from importlib-metadata->jsonpickle<2.0,>=1.2->sacred) (3.1.0)\n",
            "Collecting smmap<4,>=3.0.1\n",
            "  Downloading https://files.pythonhosted.org/packages/b0/9a/4d409a6234eb940e6a78dfdfc66156e7522262f5f2fecca07dc55915952d/smmap-3.0.4-py2.py3-none-any.whl\n",
            "Building wheels for collected packages: sacred, py-cpuinfo\n",
            "  Building wheel for sacred (setup.py) ... \u001b[?25l\u001b[?25hdone\n",
            "  Created wheel for sacred: filename=sacred-0.8.1-py2.py3-none-any.whl size=105018 sha256=c4076b47cb3c30a1c61b378c96f9e67c0d078531acaa4ee35b4900b1234bd75f\n",
            "  Stored in directory: /root/.cache/pip/wheels/11/a8/f6/1d5f073245cb0a221962713adf81e56c1c9608083f85ecac9b\n",
            "  Building wheel for py-cpuinfo (setup.py) ... \u001b[?25l\u001b[?25hdone\n",
            "  Created wheel for py-cpuinfo: filename=py_cpuinfo-6.0.0-cp36-none-any.whl size=19782 sha256=f4c0dff75e0ea325c84a5b4a5f929e8cb1dcebd4d2e68ac85d912a786969506a\n",
            "  Stored in directory: /root/.cache/pip/wheels/1c/f3/3c/ddcb384c30323d66d842b42f93b6cd2cbdfd1b317237042372\n",
            "Successfully built sacred py-cpuinfo\n",
            "Installing collected packages: jsonpickle, munch, py-cpuinfo, colorama, smmap, gitdb, GitPython, sacred\n",
            "Successfully installed GitPython-3.1.3 colorama-0.4.3 gitdb-4.0.5 jsonpickle-1.4.1 munch-2.5.0 py-cpuinfo-6.0.0 sacred-0.8.1 smmap-3.0.4\n"
          ],
          "name": "stdout"
        }
      ]
    },
    {
      "cell_type": "code",
      "metadata": {
        "id": "lTJJ98KQKoNC",
        "colab_type": "code",
        "colab": {
          "base_uri": "https://localhost:8080/",
          "height": 34
        },
        "outputId": "e5f2ec5f-b972-48df-d7c1-69535cdfc4a0"
      },
      "source": [
        "!pwd"
      ],
      "execution_count": null,
      "outputs": [
        {
          "output_type": "stream",
          "text": [
            "/content/ConvPoint\n"
          ],
          "name": "stdout"
        }
      ]
    },
    {
      "cell_type": "code",
      "metadata": {
        "id": "2SZVRmeCI4DE",
        "colab_type": "code",
        "colab": {
          "base_uri": "https://localhost:8080/",
          "height": 692
        },
        "outputId": "1c8e3e1f-97c0-4409-d570-482e059ea330"
      },
      "source": [
        "%cd convpoint/knn\n",
        "!python setup.py install --home=\".\""
      ],
      "execution_count": null,
      "outputs": [
        {
          "output_type": "stream",
          "text": [
            "/content/ConvPoint/convpoint/knn\n",
            "running install\n",
            "running build\n",
            "running build_ext\n",
            "cythoning knn.pyx to knn.cpp\n",
            "/usr/local/lib/python3.6/dist-packages/Cython/Compiler/Main.py:369: FutureWarning: Cython directive 'language_level' not set, using 2 for now (Py2). This will change in a later release! File: /content/ConvPoint/convpoint/knn/knn.pyx\n",
            "  tree = Parsing.p_module(s, pxd, full_module_name)\n",
            "building 'nearest_neighbors' extension\n",
            "creating build\n",
            "creating build/temp.linux-x86_64-3.6\n",
            "x86_64-linux-gnu-gcc -pthread -DNDEBUG -g -fwrapv -O2 -Wall -g -fstack-protector-strong -Wformat -Werror=format-security -Wdate-time -D_FORTIFY_SOURCE=2 -fPIC -I./ -I/usr/local/lib/python3.6/dist-packages/numpy/core/include -I/usr/include/python3.6m -c knn.cpp -o build/temp.linux-x86_64-3.6/knn.o -std=c++11 -fopenmp\n",
            "In file included from \u001b[01m\u001b[K/usr/local/lib/python3.6/dist-packages/numpy/core/include/numpy/ndarraytypes.h:1832:0\u001b[m\u001b[K,\n",
            "                 from \u001b[01m\u001b[K/usr/local/lib/python3.6/dist-packages/numpy/core/include/numpy/ndarrayobject.h:12\u001b[m\u001b[K,\n",
            "                 from \u001b[01m\u001b[K/usr/local/lib/python3.6/dist-packages/numpy/core/include/numpy/arrayobject.h:4\u001b[m\u001b[K,\n",
            "                 from \u001b[01m\u001b[Kknn.cpp:620\u001b[m\u001b[K:\n",
            "\u001b[01m\u001b[K/usr/local/lib/python3.6/dist-packages/numpy/core/include/numpy/npy_1_7_deprecated_api.h:17:2:\u001b[m\u001b[K \u001b[01;35m\u001b[Kwarning: \u001b[m\u001b[K#warning \"Using deprecated NumPy API, disable it with \" \"#define NPY_NO_DEPRECATED_API NPY_1_7_API_VERSION\" [\u001b[01;35m\u001b[K-Wcpp\u001b[m\u001b[K]\n",
            " #\u001b[01;35m\u001b[Kwarning\u001b[m\u001b[K \"Using deprecated NumPy API, disable it with \" \\\n",
            "  \u001b[01;35m\u001b[K^~~~~~~\u001b[m\u001b[K\n",
            "x86_64-linux-gnu-gcc -pthread -DNDEBUG -g -fwrapv -O2 -Wall -g -fstack-protector-strong -Wformat -Werror=format-security -Wdate-time -D_FORTIFY_SOURCE=2 -fPIC -I./ -I/usr/local/lib/python3.6/dist-packages/numpy/core/include -I/usr/include/python3.6m -c knn_.cxx -o build/temp.linux-x86_64-3.6/knn_.o -std=c++11 -fopenmp\n",
            "In file included from \u001b[01m\u001b[Kknn_.cxx:6:0\u001b[m\u001b[K:\n",
            "KDTreeTableAdaptor.h: In instantiation of ‘\u001b[01m\u001b[KKDTreeTableAdaptor<TableType, num_t, DIM, Distance, IndexType>::KDTreeTableAdaptor(size_t, size_t, const TableType*, int) [with TableType = float; num_t = float; int DIM = -1; Distance = nanoflann::metric_L2; IndexType = long unsigned int; size_t = long unsigned int]\u001b[m\u001b[K’:\n",
            "\u001b[01m\u001b[Kknn_.cxx:28:40:\u001b[m\u001b[K   required from here\n",
            "\u001b[01m\u001b[KKDTreeTableAdaptor.h:131:19:\u001b[m\u001b[K \u001b[01;35m\u001b[Kwarning: \u001b[m\u001b[K‘\u001b[01m\u001b[KKDTreeTableAdaptor<float, float>::m_data\u001b[m\u001b[K’ will be initialized after [\u001b[01;35m\u001b[K-Wreorder\u001b[m\u001b[K]\n",
            "  const TableType* \u001b[01;35m\u001b[Km_data\u001b[m\u001b[K;\n",
            "                   \u001b[01;35m\u001b[K^~~~~~\u001b[m\u001b[K\n",
            "\u001b[01m\u001b[KKDTreeTableAdaptor.h:129:9:\u001b[m\u001b[K \u001b[01;35m\u001b[Kwarning: \u001b[m\u001b[K  ‘\u001b[01m\u001b[Ksize_t KDTreeTableAdaptor<float, float>::dim\u001b[m\u001b[K’ [\u001b[01;35m\u001b[K-Wreorder\u001b[m\u001b[K]\n",
            "  size_t \u001b[01;35m\u001b[Kdim\u001b[m\u001b[K;\n",
            "         \u001b[01;35m\u001b[K^~~\u001b[m\u001b[K\n",
            "\u001b[01m\u001b[KKDTreeTableAdaptor.h:134:2:\u001b[m\u001b[K \u001b[01;35m\u001b[Kwarning: \u001b[m\u001b[K  when initialized here [\u001b[01;35m\u001b[K-Wreorder\u001b[m\u001b[K]\n",
            "  \u001b[01;35m\u001b[KKDTreeTableAdaptor\u001b[m\u001b[K(const size_t npts, const size_t dim, const TableType* mat, const int leaf_max_size = 10) : m_data(mat), dim(dim), npts(npts)\n",
            "  \u001b[01;35m\u001b[K^~~~~~~~~~~~~~~~~~\u001b[m\u001b[K\n",
            "creating build/lib.linux-x86_64-3.6\n",
            "x86_64-linux-gnu-g++ -pthread -shared -Wl,-O1 -Wl,-Bsymbolic-functions -Wl,-Bsymbolic-functions -Wl,-z,relro -Wl,-Bsymbolic-functions -Wl,-z,relro -g -fstack-protector-strong -Wformat -Werror=format-security -Wdate-time -D_FORTIFY_SOURCE=2 build/temp.linux-x86_64-3.6/knn.o build/temp.linux-x86_64-3.6/knn_.o -o build/lib.linux-x86_64-3.6/nearest_neighbors.cpython-36m-x86_64-linux-gnu.so -std=c++11 -fopenmp\n",
            "running install_lib\n",
            "creating lib\n",
            "creating lib/python\n",
            "copying build/lib.linux-x86_64-3.6/nearest_neighbors.cpython-36m-x86_64-linux-gnu.so -> ./lib/python\n",
            "running install_egg_info\n",
            "Writing ./lib/python/KNN_NanoFLANN-0.0.0.egg-info\n"
          ],
          "name": "stdout"
        }
      ]
    },
    {
      "cell_type": "code",
      "metadata": {
        "id": "x9HVe5YXLIP7",
        "colab_type": "code",
        "colab": {}
      },
      "source": [
        "from utils import metrics"
      ],
      "execution_count": null,
      "outputs": []
    },
    {
      "cell_type": "code",
      "metadata": {
        "id": "e9_t4X_NMEHa",
        "colab_type": "code",
        "colab": {
          "base_uri": "https://localhost:8080/",
          "height": 162
        },
        "outputId": "c63b0d9c-2cf7-4b60-a108-1168ed44b8dd"
      },
      "source": [
        "utils.metrics"
      ],
      "execution_count": null,
      "outputs": [
        {
          "output_type": "error",
          "ename": "NameError",
          "evalue": "ignored",
          "traceback": [
            "\u001b[0;31m---------------------------------------------------------------------------\u001b[0m",
            "\u001b[0;31mNameError\u001b[0m                                 Traceback (most recent call last)",
            "\u001b[0;32m<ipython-input-40-07a1836aedab>\u001b[0m in \u001b[0;36m<module>\u001b[0;34m()\u001b[0m\n\u001b[0;32m----> 1\u001b[0;31m \u001b[0mutils\u001b[0m\u001b[0;34m.\u001b[0m\u001b[0mmetrics\u001b[0m\u001b[0;34m\u001b[0m\u001b[0;34m\u001b[0m\u001b[0m\n\u001b[0m",
            "\u001b[0;31mNameError\u001b[0m: name 'utils' is not defined"
          ]
        }
      ]
    },
    {
      "cell_type": "code",
      "metadata": {
        "id": "svHBtZh1GtW0",
        "colab_type": "code",
        "colab": {
          "base_uri": "https://localhost:8080/",
          "height": 84
        },
        "outputId": "580e5e45-351f-40ba-8ea0-2acb9c564252"
      },
      "source": [
        "!python examples/modelnet/modelnet_classif.py --rootdir /content/ConvPoint/modelnet40_ply_hdf5_2048 --savedir /content/ConvPoint/examples/modelnet/ --npoints 2048"
      ],
      "execution_count": null,
      "outputs": [
        {
          "output_type": "stream",
          "text": [
            "Traceback (most recent call last):\n",
            "  File \"examples/modelnet/modelnet_classif.py\", line 21, in <module>\n",
            "    import utils.metrics as metrics\n",
            "ModuleNotFoundError: No module named 'utils.metrics'\n"
          ],
          "name": "stdout"
        }
      ]
    },
    {
      "cell_type": "code",
      "metadata": {
        "id": "a2_7tsoPHRKj",
        "colab_type": "code",
        "colab": {
          "base_uri": "https://localhost:8080/",
          "height": 67
        },
        "outputId": "9c0a4fda-095c-48e0-9552-91ada184b88b"
      },
      "source": [
        "!ls"
      ],
      "execution_count": null,
      "outputs": [
        {
          "output_type": "stream",
          "text": [
            "convpoint  global_tags.py\t     modelnet40_ply_hdf5_2048.zip  utils\n",
            "doc\t   LICENSE.md\t\t     networks\n",
            "examples   modelnet40_ply_hdf5_2048  README.md\n"
          ],
          "name": "stdout"
        }
      ]
    },
    {
      "cell_type": "code",
      "metadata": {
        "id": "smwwQ1qGHXLb",
        "colab_type": "code",
        "colab": {}
      },
      "source": [
        ""
      ],
      "execution_count": null,
      "outputs": []
    }
  ]
}